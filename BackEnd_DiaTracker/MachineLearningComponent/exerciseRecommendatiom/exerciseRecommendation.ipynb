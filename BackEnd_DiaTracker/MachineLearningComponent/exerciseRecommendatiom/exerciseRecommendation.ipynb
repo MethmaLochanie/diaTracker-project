{
 "cells": [
  {
   "attachments": {},
   "cell_type": "markdown",
   "metadata": {},
   "source": [
    "# methma"
   ]
  },
  {
   "cell_type": "code",
   "execution_count": null,
   "metadata": {},
   "outputs": [],
   "source": []
  },
  {
   "cell_type": "markdown",
   "metadata": {},
   "source": []
  }
 ],
 "metadata": {
  "kernelspec": {
   "display_name": "Python 3",
   "language": "python",
   "name": "python3"
  },
  "language_info": {
   "name": "python",
   "version": "3.9.7"
  },
  "orig_nbformat": 4,
  "vscode": {
   "interpreter": {
    "hash": "1764a204d4a7d1256f8a9ac59e93be24535b789fd5778896b4995768d76340f0"
   }
  }
 },
 "nbformat": 4,
 "nbformat_minor": 2
}
