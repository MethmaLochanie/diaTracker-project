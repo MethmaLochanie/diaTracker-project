{
<<<<<<< HEAD
 "cells": [
  {
   "cell_type": "code",
   "execution_count": null,
   "metadata": {},
   "outputs": [],
   "source": []
  }
 ],
 "metadata": {
  "kernelspec": {
   "display_name": "Python 3",
   "language": "python",
   "name": "python3"
  },
  "language_info": {
   "name": "python",
   "version": "3.11.1"
  },
  "vscode": {
   "interpreter": {
    "hash": "c2e92962c15a5f0062d060c64a3f5e06940ec50f2a7c64c50f55ce0f2319c36e"
   }
  }
 },
=======
 "cells": [],
 "metadata": {},
>>>>>>> 9141939f26f547c26002e6add2251059c55ca46c
 "nbformat": 4,
 "nbformat_minor": 5
}
